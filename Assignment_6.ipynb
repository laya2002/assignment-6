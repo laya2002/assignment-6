{
  "nbformat": 4,
  "nbformat_minor": 0,
  "metadata": {
    "colab": {
      "name": "Assignment 6",
      "provenance": [],
      "toc_visible": true,
      "authorship_tag": "ABX9TyO2/YJxNBx+JUAPVc2RZDAE",
      "include_colab_link": true
    },
    "kernelspec": {
      "name": "python3",
      "display_name": "Python 3"
    }
  },
  "cells": [
    {
      "cell_type": "markdown",
      "metadata": {
        "id": "view-in-github",
        "colab_type": "text"
      },
      "source": [
        "<a href=\"https://colab.research.google.com/github/laya2002/assignment-6/blob/master/Assignment_6.ipynb\" target=\"_parent\"><img src=\"https://colab.research.google.com/assets/colab-badge.svg\" alt=\"Open In Colab\"/></a>"
      ]
    },
    {
      "cell_type": "code",
      "metadata": {
        "id": "sBrm-txZgxl-",
        "colab_type": "code",
        "colab": {}
      },
      "source": [
        ""
      ],
      "execution_count": null,
      "outputs": []
    },
    {
      "cell_type": "markdown",
      "metadata": {
        "id": "O2b6BvRKg0GU",
        "colab_type": "text"
      },
      "source": [
        "phyton program to cnvert binary number to decimal."
      ]
    },
    {
      "cell_type": "code",
      "metadata": {
        "id": "cVy8ktOJhBdM",
        "colab_type": "code",
        "colab": {
          "base_uri": "https://localhost:8080/",
          "height": 119
        },
        "outputId": "5c460fe4-0d59-4b6f-a537-c55179fd3475"
      },
      "source": [
        "b_num = list(input(\"input a binary number\"))\n",
        "value=0\n",
        "for i in range(len(b_num)):\n",
        "  digit = b_num.pop()\n",
        "  if digit == '1':\n",
        "       value = value + pow(2, i)\n",
        "  print(\"the decimal value of the number is\", value)"
      ],
      "execution_count": 3,
      "outputs": [
        {
          "output_type": "stream",
          "text": [
            "input a binary number10010\n",
            "the decimal value of the number is 0\n",
            "the decimal value of the number is 2\n",
            "the decimal value of the number is 2\n",
            "the decimal value of the number is 2\n",
            "the decimal value of the number is 18\n"
          ],
          "name": "stdout"
        }
      ]
    },
    {
      "cell_type": "markdown",
      "metadata": {
        "id": "P4IvKv0XjDVz",
        "colab_type": "text"
      },
      "source": [
        "phytn program to generate N number of fibonacci numbers take n value from users"
      ]
    },
    {
      "cell_type": "code",
      "metadata": {
        "id": "i3X0OMMkjUWW",
        "colab_type": "code",
        "colab": {
          "base_uri": "https://localhost:8080/",
          "height": 136
        },
        "outputId": "63243d2b-11c5-4b28-969c-7053643198b9"
      },
      "source": [
        "n = int(input(\"how many terms? \"))\n",
        "n1, n2 = 0, 1\n",
        "count = 0\n",
        "if n<= 0:\n",
        "  print(\"please enter a positive integer\") \n",
        "elif n == 1:\n",
        "  printf(\"fibonacci sequence upto\",n,\":\")\n",
        "  print(n1)\n",
        "else:\n",
        "  print(\"fibonacci sequence:\")\n",
        "  while count < n:\n",
        "      print(n1)\n",
        "      nth = n1 + n2\n",
        "    # update values\n",
        "      n2 = nth\n",
        "      count += 1"
      ],
      "execution_count": 6,
      "outputs": [
        {
          "output_type": "stream",
          "text": [
            "how many terms? 5\n",
            "fibonacci sequence:\n",
            "0\n",
            "0\n",
            "0\n",
            "0\n",
            "0\n"
          ],
          "name": "stdout"
        }
      ]
    },
    {
      "cell_type": "markdown",
      "metadata": {
        "id": "gR9qX4n0ngAc",
        "colab_type": "text"
      },
      "source": [
        "phyton program to dispay multiplication tableof num. take num value from the user"
      ]
    },
    {
      "cell_type": "code",
      "metadata": {
        "id": "V70djiXDn3Ky",
        "colab_type": "code",
        "colab": {
          "base_uri": "https://localhost:8080/",
          "height": 204
        },
        "outputId": "2f54a575-0a60-4ef7-a448-eb9d24025d37"
      },
      "source": [
        "num = int(input(\"enter the number to display multiplication table: \"))\n",
        "for i in range(1, 11):\n",
        "  print(num, 'x', i,'=', num*i)"
      ],
      "execution_count": 9,
      "outputs": [
        {
          "output_type": "stream",
          "text": [
            "enter the number to display multiplication table: 10\n",
            "10 x 1 = 10\n",
            "10 x 2 = 20\n",
            "10 x 3 = 30\n",
            "10 x 4 = 40\n",
            "10 x 5 = 50\n",
            "10 x 6 = 60\n",
            "10 x 7 = 70\n",
            "10 x 8 = 80\n",
            "10 x 9 = 90\n",
            "10 x 10 = 100\n"
          ],
          "name": "stdout"
        }
      ]
    },
    {
      "cell_type": "markdown",
      "metadata": {
        "id": "rIg4FTVMpC9m",
        "colab_type": "text"
      },
      "source": [
        "phyton program to take 10 integers from keyboard using loop and print their average value on the screen"
      ]
    },
    {
      "cell_type": "code",
      "metadata": {
        "id": "VJaGb9-Lp1Hf",
        "colab_type": "code",
        "colab": {
          "base_uri": "https://localhost:8080/",
          "height": 102
        },
        "outputId": "1e1d86cc-05df-467a-be85-b63c2b10c15f"
      },
      "source": [
        "sum=0\n",
        "i=0\n",
        "while i>0:\n",
        "  print (\"enter number\")\n",
        "  num = int(input())\n",
        "  sum = sum + num\n",
        "  i = i-1\n",
        "print (\"average is\", sum/10.0)\n",
        "# to print the pattern\n",
        "i = 1\n",
        "while i<=4:\n",
        "  print (\"*\"*i)\n",
        "  i=i+1\n",
        "\n"
      ],
      "execution_count": 10,
      "outputs": [
        {
          "output_type": "stream",
          "text": [
            "average is 0.0\n",
            "*\n",
            "**\n",
            "***\n",
            "****\n"
          ],
          "name": "stdout"
        }
      ]
    },
    {
      "cell_type": "markdown",
      "metadata": {
        "id": "3j7vlsqMsbWh",
        "colab_type": "text"
      },
      "source": [
        "phyton program to find greatest greatest common divisor (gcd) or hoghest common factor of given two numbers"
      ]
    },
    {
      "cell_type": "code",
      "metadata": {
        "id": "XBEQQfGHtHYi",
        "colab_type": "code",
        "colab": {
          "base_uri": "https://localhost:8080/",
          "height": 68
        },
        "outputId": "5dde348c-9e1a-4482-d2e8-aedd9f73dbdd"
      },
      "source": [
        "def gcd(a,b):\n",
        "  if (a == 0):\n",
        "    return b\n",
        "  if (b == 0):\n",
        "    return a\n",
        "  if (a > b):\n",
        "    return gcd(a-b, b)\n",
        "a = int(input(\"enter the value of a: \"))\n",
        "b = int(input(\"enter the value of b: \"))\n",
        "if (gcd(a, b)):\n",
        "   print('gcd of', a, 'and', b, 'is', gcd(a, b))\n",
        "else:\n",
        "   print('not found') "
      ],
      "execution_count": 15,
      "outputs": [
        {
          "output_type": "stream",
          "text": [
            "enter the value of a: 4\n",
            "enter the value of b: 9\n",
            "not found\n"
          ],
          "name": "stdout"
        }
      ]
    },
    {
      "cell_type": "markdown",
      "metadata": {
        "id": "JQaV0nq9xHZc",
        "colab_type": "text"
      },
      "source": [
        "phyton program that accepts aword from the user and reverse it"
      ]
    },
    {
      "cell_type": "code",
      "metadata": {
        "id": "vGWV6coaxRTO",
        "colab_type": "code",
        "colab": {
          "base_uri": "https://localhost:8080/",
          "height": 68
        },
        "outputId": "9dd3733a-a624-4a16-a52b-78a4a56c524d"
      },
      "source": [
        "word = input(\"input a word to reverse: \")\n",
        "for char in range(len(word) - 1, - 1, - 1):\n",
        "  print(word[char], end=\"\")\n",
        "print(\"\\n\")"
      ],
      "execution_count": 16,
      "outputs": [
        {
          "output_type": "stream",
          "text": [
            "input a word to reverse: hello\n",
            "olleh\n",
            "\n"
          ],
          "name": "stdout"
        }
      ]
    },
    {
      "cell_type": "markdown",
      "metadata": {
        "id": "H7U4wu9ayX9u",
        "colab_type": "text"
      },
      "source": [
        "phyton program to count the number of even and oddnumbers from aseries of numbers"
      ]
    },
    {
      "cell_type": "code",
      "metadata": {
        "id": "FeG_dO9Oy76t",
        "colab_type": "code",
        "colab": {
          "base_uri": "https://localhost:8080/",
          "height": 51
        },
        "outputId": "43cf8b08-e949-4d7d-d04c-a084f75528e5"
      },
      "source": [
        "numbers = (1, 2, 3, 4, 5, 6, 7, 8, 9)\n",
        "count_odd = 0\n",
        "count_even = 0\n",
        "for x in numbers:\n",
        "  if not x % 2:\n",
        "    count_even+=1\n",
        "  else:\n",
        "    count_odd+=1\n",
        "print(\"number of even numbers :\",count_even)\n",
        "print(\"number of odd numbers :\",count_odd)"
      ],
      "execution_count": 17,
      "outputs": [
        {
          "output_type": "stream",
          "text": [
            "number of even numbers : 4\n",
            "number of odd numbers : 5\n"
          ],
          "name": "stdout"
        }
      ]
    },
    {
      "cell_type": "markdown",
      "metadata": {
        "id": "-LFOZ9Ys1nsL",
        "colab_type": "text"
      },
      "source": [
        "phyton program that prints all of the numbers from 0 to 6 except 3 and 6"
      ]
    },
    {
      "cell_type": "code",
      "metadata": {
        "id": "vOaaxaD-12A5",
        "colab_type": "code",
        "colab": {
          "base_uri": "https://localhost:8080/",
          "height": 51
        },
        "outputId": "7791dc58-7553-450e-c703-ac8802dadb1a"
      },
      "source": [
        "for x in range(6):\n",
        "  if (x == 3 or x==6):\n",
        "    continue\n",
        "  print(x,end=' ')\n",
        "print(\"\\n\")"
      ],
      "execution_count": 18,
      "outputs": [
        {
          "output_type": "stream",
          "text": [
            "0 1 2 4 5 \n",
            "\n"
          ],
          "name": "stdout"
        }
      ]
    },
    {
      "cell_type": "markdown",
      "metadata": {
        "id": "BsaFy-IWskSo",
        "colab_type": "text"
      },
      "source": [
        ""
      ]
    },
    {
      "cell_type": "markdown",
      "metadata": {
        "id": "zYVdgbMvskyr",
        "colab_type": "text"
      },
      "source": [
        ""
      ]
    },
    {
      "cell_type": "markdown",
      "metadata": {
        "id": "o7Jvx-mfskXa",
        "colab_type": "text"
      },
      "source": [
        ""
      ]
    }
  ]
}